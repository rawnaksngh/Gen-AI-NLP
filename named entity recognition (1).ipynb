{
 "cells": [
  {
   "cell_type": "code",
   "execution_count": 1,
   "id": "0aef3344-80ce-44ba-8ed3-7172c8e7db68",
   "metadata": {},
   "outputs": [],
   "source": [
    "#named entity recognition: spacy has an ner pipeline component that identifies token spans fitting a predetermined set of named entities these are available as the ents propertty"
   ]
  },
  {
   "cell_type": "code",
   "execution_count": 2,
   "id": "7f7db5b6-cc64-4fdd-a218-bbd245712880",
   "metadata": {},
   "outputs": [],
   "source": [
    "import spacy\n",
    "nlp = spacy.load('en_core_web_sm')"
   ]
  },
  {
   "cell_type": "code",
   "execution_count": 3,
   "id": "3d803369-49d1-4ed7-937e-84ab156a0dce",
   "metadata": {},
   "outputs": [],
   "source": [
    "#write a function to displacy basic entity info:\n",
    "def show_ents(doc):\n",
    "    if doc.ents:\n",
    "        for ent in doc.ents:\n",
    "           print(ent.text+' - '+ent.label_+' - '+str(spacy.explain(ent.label_)))\n",
    "        else:\n",
    "            print('no named entities found.')"
   ]
  },
  {
   "cell_type": "code",
   "execution_count": 4,
   "id": "2a4bdfe4-5169-46fa-ad2c-90b1b21dcb5c",
   "metadata": {},
   "outputs": [
    {
     "data": {
      "text/plain": [
       "May I go to Washington,Dc next may to see the Washington Monument?"
      ]
     },
     "execution_count": 4,
     "metadata": {},
     "output_type": "execute_result"
    }
   ],
   "source": [
    "doc = nlp(u'May I go to Washington,Dc next may to see the Washington Monument?')\n",
    "\n",
    "doc"
   ]
  },
  {
   "cell_type": "code",
   "execution_count": 5,
   "id": "d5696550-83f5-45ad-9b6c-23b5d63992e8",
   "metadata": {},
   "outputs": [
    {
     "name": "stdout",
     "output_type": "stream",
     "text": [
      "Washington,Dc - GPE - Countries, cities, states\n",
      "the Washington Monument - ORG - Companies, agencies, institutions, etc.\n",
      "no named entities found.\n"
     ]
    }
   ],
   "source": [
    "show_ents(doc)"
   ]
  },
  {
   "cell_type": "code",
   "execution_count": 6,
   "id": "a56d147c-5ad1-4a4f-96fe-841a120a136f",
   "metadata": {},
   "outputs": [
    {
     "name": "stdout",
     "output_type": "stream",
     "text": [
      "500 dollars 4 6 20 31 MONEY\n",
      "Microsoft 11 12 53 62 ORG\n"
     ]
    }
   ],
   "source": [
    "doc = nlp(u'can i please borrow 500 dollars from you to buy some Microsoft stock?')\n",
    "\n",
    "for ent in doc.ents:\n",
    "    print(ent.text,ent.start,ent.end,ent.start_char,ent.end_char,ent.label_)"
   ]
  },
  {
   "cell_type": "code",
   "execution_count": 7,
   "id": "2fb1c5da-d7e9-475c-be0f-414f132baa2c",
   "metadata": {},
   "outputs": [],
   "source": [
    "#NER tags:tagg are accessible through tthe .label_property of an entity."
   ]
  },
  {
   "cell_type": "code",
   "execution_count": 8,
   "id": "d6f2c288-1066-4569-b552-13acc1339351",
   "metadata": {},
   "outputs": [
    {
     "name": "stdout",
     "output_type": "stream",
     "text": [
      "can|i|please|borrow|500|dollars|from|you|to|buy|some|Microsoft|stock|?|"
     ]
    }
   ],
   "source": [
    "doc = nlp(u'can i please borrow 500 dollars from you to buy some Microsoft stock?')\n",
    "\n",
    "for token in doc:\n",
    "    print(token.text,end='|')"
   ]
  },
  {
   "cell_type": "code",
   "execution_count": 9,
   "id": "af7a0abe-c50b-4689-9397-ee2f954ce699",
   "metadata": {},
   "outputs": [],
   "source": [
    "#adding a named entity as span: normally we would have spacy build and add entity.."
   ]
  },
  {
   "cell_type": "code",
   "execution_count": 10,
   "id": "2f77775b-bcb8-49f4-905f-0d1294a363bd",
   "metadata": {},
   "outputs": [
    {
     "name": "stdout",
     "output_type": "stream",
     "text": [
      "$6 million - MONEY - Monetary values, including unit\n",
      "no named entities found.\n"
     ]
    }
   ],
   "source": [
    "doc=nlp(u'tesla to build a U.K.factory for $6 million')\n",
    "\n",
    "show_ents(doc)"
   ]
  },
  {
   "cell_type": "code",
   "execution_count": 11,
   "id": "84cc1d06-36fb-4fd2-a3b6-2d0a1c955af1",
   "metadata": {},
   "outputs": [],
   "source": [
    "from spacy.tokens import Span\n",
    "#get the hash value of the ORG entity label\n",
    "ORG = doc.vocab.strings[u'ORG']\n",
    "\n",
    "#create a span for the new entity\n",
    "new_ent = Span(doc, 0 , 1,label=ORG)\n",
    "\n",
    "#add the entity to the existing doc object\n",
    "doc.ents = list(doc.ents) + [new_ent]"
   ]
  },
  {
   "cell_type": "code",
   "execution_count": 12,
   "id": "b2bbfa0c-63e3-4f61-bf18-afa98ba90ee4",
   "metadata": {},
   "outputs": [
    {
     "data": {
      "text/plain": [
       "tesla to build a U.K.factory for $6 million"
      ]
     },
     "execution_count": 12,
     "metadata": {},
     "output_type": "execute_result"
    }
   ],
   "source": [
    "doc"
   ]
  },
  {
   "cell_type": "code",
   "execution_count": 13,
   "id": "f21fc56d-c1cf-40df-9a13-4c26ba742d33",
   "metadata": {},
   "outputs": [
    {
     "name": "stdout",
     "output_type": "stream",
     "text": [
      "tesla - ORG - Companies, agencies, institutions, etc.\n",
      "$6 million - MONEY - Monetary values, including unit\n",
      "no named entities found.\n"
     ]
    }
   ],
   "source": [
    "show_ents(doc)"
   ]
  },
  {
   "cell_type": "code",
   "execution_count": 14,
   "id": "56ee67c7-3523-4310-94e0-94054c9713c6",
   "metadata": {},
   "outputs": [],
   "source": [
    "#adding named entities to all matching spans:-what if we want to tag all occurence of tesla? in this section how to use the phrasematcher to identity a series of span in the doc"
   ]
  },
  {
   "cell_type": "code",
   "execution_count": 15,
   "id": "a9d1d75f-1d1d-4481-96c5-3d8cbc7f67da",
   "metadata": {},
   "outputs": [
    {
     "name": "stdout",
     "output_type": "stream",
     "text": [
      "first - ORDINAL - \"first\", \"second\", etc.\n",
      "no named entities found.\n"
     ]
    }
   ],
   "source": [
    "doc=nlp(u'our company plans to introduce a new vaccum cleaner,'\n",
    "        u'if succesful,the vaccum-cleaner will be our first product.')\n",
    "show_ents(doc)"
   ]
  },
  {
   "cell_type": "code",
   "execution_count": 16,
   "id": "5309f9f3-c59f-4ba4-929f-41034aee9a20",
   "metadata": {},
   "outputs": [],
   "source": [
    "#import phrasematcher and create a matcher object:\n",
    "from spacy.matcher import PhraseMatcher\n",
    "matcher = PhraseMatcher(nlp.vocab)"
   ]
  },
  {
   "cell_type": "code",
   "execution_count": 17,
   "id": "6ac4fe18-ddf6-4459-a44b-ee07dedc9e2a",
   "metadata": {},
   "outputs": [],
   "source": [
    "#create the desired phrase patterns:\n",
    "phrase_list = ['vaccum cleaner','vaccum-cleaner']\n",
    "phrase_patterns = [nlp(text) for text in phrase_list]"
   ]
  },
  {
   "cell_type": "code",
   "execution_count": 18,
   "id": "e8a79e06-60dd-465a-b403-e236f4c4a82f",
   "metadata": {},
   "outputs": [
    {
     "data": {
      "text/plain": [
       "[(2689272359382549672, 7, 9), (2689272359382549672, 14, 17)]"
      ]
     },
     "execution_count": 18,
     "metadata": {},
     "output_type": "execute_result"
    }
   ],
   "source": [
    "#apply the patterns to our matcher object:\n",
    "matcher.add('newproduct',None,*phrase_patterns)\n",
    "\n",
    "#apply the matcher to our matcher objects:\n",
    "matches = matcher(doc)\n",
    "\n",
    "#see what matches occur:\n",
    "matches"
   ]
  },
  {
   "cell_type": "code",
   "execution_count": 19,
   "id": "5a434787-08bc-4d7f-847e-bc677961ac76",
   "metadata": {},
   "outputs": [],
   "source": [
    "#here we create spans from each match,and create named entities from them:\n",
    "from spacy.tokens import Span\n",
    "\n",
    "PROD = doc.vocab.strings[u'PRODUCT']\n",
    "\n",
    "new_ents = [Span(doc,match[1],match[2],label=PROD) for match in matches]\n",
    "\n",
    "doc.ents = list(doc.ents) + new_ents"
   ]
  },
  {
   "cell_type": "code",
   "execution_count": 20,
   "id": "d3888181-6528-4861-af73-896ce331f155",
   "metadata": {},
   "outputs": [
    {
     "name": "stdout",
     "output_type": "stream",
     "text": [
      "vaccum cleaner - PRODUCT - Objects, vehicles, foods, etc. (not services)\n",
      "vaccum-cleaner - PRODUCT - Objects, vehicles, foods, etc. (not services)\n",
      "first - ORDINAL - \"first\", \"second\", etc.\n",
      "no named entities found.\n"
     ]
    }
   ],
   "source": [
    "show_ents(doc)"
   ]
  },
  {
   "cell_type": "code",
   "execution_count": 21,
   "id": "2a0f35a6-1735-41b5-99eb-f038b1a2c646",
   "metadata": {},
   "outputs": [],
   "source": [
    "#counting entities:while spacy may not have a built-in tool for counting entitiess,we can pass a conditional statement into a list comprehensive."
   ]
  },
  {
   "cell_type": "code",
   "execution_count": 22,
   "id": "bdb7da2c-f120-4604-8514-9eaf75b64b1e",
   "metadata": {},
   "outputs": [
    {
     "name": "stdout",
     "output_type": "stream",
     "text": [
      "29.50 - MONEY - Monetary values, including unit\n",
      "five dollars - MONEY - Monetary values, including unit\n",
      "no named entities found.\n"
     ]
    }
   ],
   "source": [
    "doc=nlp(u'Originally priced at $29.50, the sweater was marked down to five dollars')\n",
    "show_ents(doc)"
   ]
  },
  {
   "cell_type": "code",
   "execution_count": 23,
   "id": "7769a501-a693-4b09-8a5f-e29e77fd64b5",
   "metadata": {},
   "outputs": [
    {
     "data": {
      "text/plain": [
       "2"
      ]
     },
     "execution_count": 23,
     "metadata": {},
     "output_type": "execute_result"
    }
   ],
   "source": [
    "len([ent for ent in doc.ents if ent.label_ =='MONEY'])"
   ]
  },
  {
   "cell_type": "code",
   "execution_count": 24,
   "id": "d9bff5c8-1454-40b7-b025-3a71a0f49bb7",
   "metadata": {},
   "outputs": [],
   "source": [
    "#problem with line breaks:-there's a know issue with spa y v2.0.12 where some linebreaks are interpreted as GPE entities."
   ]
  },
  {
   "cell_type": "code",
   "execution_count": 28,
   "id": "1250d7f9-9818-49e0-b615-cd99ba3714c4",
   "metadata": {},
   "outputs": [
    {
     "data": {
      "text/plain": [
       "'3.8.2'"
      ]
     },
     "execution_count": 28,
     "metadata": {},
     "output_type": "execute_result"
    }
   ],
   "source": [
    "spacy.__version__"
   ]
  },
  {
   "cell_type": "code",
   "execution_count": 27,
   "id": "356ca453-3f86-45c5-8579-c396697f178c",
   "metadata": {},
   "outputs": [
    {
     "name": "stdout",
     "output_type": "stream",
     "text": [
      "29.50 - MONEY - Monetary values, including unit\n",
      "five dollars - MONEY - Monetary values, including unit\n",
      "no named entities found.\n"
     ]
    }
   ],
   "source": [
    "doc=nlp(u'originally priced at $29.50,\\n the sweater was marked down to five dollars.')\n",
    "show_ents(doc)"
   ]
  },
  {
   "cell_type": "code",
   "execution_count": 33,
   "id": "6afd0e2c-1fa2-4703-bad7-11c5f888ba4c",
   "metadata": {},
   "outputs": [],
   "source": [
    "#noun chunks:\n",
    "#text=the originalnoun chunk text.\n",
    "#root text=the original text connected to noun chunks to the rest of the phrase\n",
    "#root.dep=dependency relation connecting the root to its head.\n",
    "#root.head.text=the text of the root token's head."
   ]
  },
  {
   "cell_type": "code",
   "execution_count": 32,
   "id": "db14b1b0-8638-4e4e-86d8-000c2da3884f",
   "metadata": {},
   "outputs": [
    {
     "name": "stdout",
     "output_type": "stream",
     "text": [
      "Autonomous cars - cars - nsubj - shift\n",
      "insurance liability - liability - dobj - shift\n",
      "manufactures - manufactures - pobj - towards\n"
     ]
    }
   ],
   "source": [
    "doc=nlp(u'Autonomous cars shift insurance liability towards manufactures.')\n",
    "for chunk in doc.noun_chunks:\n",
    "    print(chunk.text+' - '+chunk.root.text+' - '+chunk.root.dep_+' - '+chunk.root.head.text)"
   ]
  },
  {
   "cell_type": "code",
   "execution_count": 34,
   "id": "6738caf7-91e6-4116-a68b-5e334ee83e07",
   "metadata": {},
   "outputs": [
    {
     "ename": "AttributeError",
     "evalue": "'spacy.tokens.doc.Doc' object has no attribute 'noun_chunk'",
     "output_type": "error",
     "traceback": [
      "\u001b[1;31m---------------------------------------------------------------------------\u001b[0m",
      "\u001b[1;31mAttributeError\u001b[0m                            Traceback (most recent call last)",
      "Cell \u001b[1;32mIn[34], line 1\u001b[0m\n\u001b[1;32m----> 1\u001b[0m \u001b[38;5;28mlen\u001b[39m(doc\u001b[38;5;241m.\u001b[39mnoun_chunk)\n",
      "\u001b[1;31mAttributeError\u001b[0m: 'spacy.tokens.doc.Doc' object has no attribute 'noun_chunk'"
     ]
    }
   ],
   "source": [
    "len(doc.noun_chunk)*it is not use in noun chunks"
   ]
  },
  {
   "cell_type": "code",
   "execution_count": 36,
   "id": "5ecb6b22-a425-416a-9ce6-83c3a1390e30",
   "metadata": {},
   "outputs": [
    {
     "data": {
      "text/plain": [
       "3"
      ]
     },
     "execution_count": 36,
     "metadata": {},
     "output_type": "execute_result"
    }
   ],
   "source": [
    "len(list(doc.noun_chunks))"
   ]
  },
  {
   "cell_type": "code",
   "execution_count": null,
   "id": "b25eb72f-5121-409c-b107-4d1dd8e4b092",
   "metadata": {},
   "outputs": [],
   "source": []
  }
 ],
 "metadata": {
  "kernelspec": {
   "display_name": "Python 3 (ipykernel)",
   "language": "python",
   "name": "python3"
  },
  "language_info": {
   "codemirror_mode": {
    "name": "ipython",
    "version": 3
   },
   "file_extension": ".py",
   "mimetype": "text/x-python",
   "name": "python",
   "nbconvert_exporter": "python",
   "pygments_lexer": "ipython3",
   "version": "3.12.8"
  }
 },
 "nbformat": 4,
 "nbformat_minor": 5
}
