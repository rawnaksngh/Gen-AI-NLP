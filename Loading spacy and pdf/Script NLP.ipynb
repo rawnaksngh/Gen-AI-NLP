{
 "cells": [
  {
   "cell_type": "code",
   "execution_count": 1,
   "id": "1f5c2364-d71c-4e39-9afc-9aa16b32cd02",
   "metadata": {},
   "outputs": [
    {
     "name": "stdout",
     "output_type": "stream",
     "text": [
      "NLP stands for Natural Language Processing\n"
     ]
    }
   ],
   "source": [
    "abbr = \"NLP\"\n",
    "full_form = \"Natural Language Processing\"\n",
    "\n",
    "print(f\"{abbr} stands for {full_form}\")\n"
   ]
  },
  {
   "cell_type": "code",
   "execution_count": 2,
   "id": "4da962e3-c3c3-41a7-bb98-f7ed712978cc",
   "metadata": {},
   "outputs": [],
   "source": [
    "#Create a file in the current working directory called contacts.txt\n",
    "with open(\"contacts.txt\", \"w\") as file:\n",
    "    file.write(\"Name, Phone Number, Email\\n\")\n",
    "    file.write(\"John Doe, 123-456-7890, johndoe@example.com\\n\")\n",
    "    file.write(\"Jane Smith, 987-654-3210, janesmith@example.com\\n\")\n"
   ]
  },
  {
   "cell_type": "code",
   "execution_count": 3,
   "id": "835e072d-e2ef-4b5c-ab36-c74dc086ff12",
   "metadata": {},
   "outputs": [
    {
     "name": "stdout",
     "output_type": "stream",
     "text": [
      "Name, Phone Number, Email\n",
      "John Doe, 123-456-7890, johndoe@example.com\n",
      "Jane Smith, 987-654-3210, janesmith@example.com\n",
      "\n"
     ]
    }
   ],
   "source": [
    "#Open the file and use .read() to save the contents of the file to a string called fields\n",
    "# Open the file in read mode\n",
    "with open(\"contacts.txt\", \"r\") as file:\n",
    "    fields = file.read()\n",
    "\n",
    "# Ensure the file is closed after reading\n",
    "print(fields)\n"
   ]
  },
  {
   "cell_type": "code",
   "execution_count": 6,
   "id": "184e06a6-9bb1-46e9-b618-a03fa050faca",
   "metadata": {},
   "outputs": [
    {
     "name": "stdout",
     "output_type": "stream",
     "text": [
      "Requirement already satisfied: PyPDF2 in d:\\newfolder\\envs\\spacy\\lib\\site-packages (3.0.1)\n",
      "Note: you may need to restart the kernel to use updated packages.\n"
     ]
    }
   ],
   "source": [
    "\n",
    "pip install PyPDF2\n"
   ]
  },
  {
   "cell_type": "code",
   "execution_count": 1,
   "id": "893050ca-e044-466f-b772-9090175c197e",
   "metadata": {},
   "outputs": [
    {
     "name": "stdout",
     "output_type": "stream",
     "text": [
      "AUTHORS:  \n",
      "Amy Baker, Finance Chair, x345, abaker@ourcompany.com  \n",
      "Chris Donaldson, Accounting Dir., x621, cdonaldson@ourcompany.com  \n",
      "Erin Freeman, Sr. VP, x879, efreeman@ourcompany.com  \n"
     ]
    }
   ],
   "source": [
    "#Use PyPDF2 to open the file Business_Proposal.pdf and extract the text of page 2\n",
    "import PyPDF2\n",
    "\n",
    "# Open the PDF file\n",
    "with open(\"Business_Proposal.pdf\", \"rb\") as file:\n",
    "    reader = PyPDF2.PdfReader(file)\n",
    "    page_two = reader.pages[1]  # Page numbering starts from 0\n",
    "    page_two_text = page_two.extract_text()\n",
    "\n",
    "print(page_two_text)\n"
   ]
  },
  {
   "cell_type": "code",
   "execution_count": 2,
   "id": "8aedf364-c32b-41d0-9d5a-c5082ad119c4",
   "metadata": {},
   "outputs": [],
   "source": [
    "#Open the file contacts.txtin append mode and add the text of page 2\n",
    "# Open the file in append mode\n",
    "with open(\"contacts.txt\", \"a\") as file:\n",
    "    file.write(\"\\n\" + page_two_text)\n"
   ]
  },
  {
   "cell_type": "code",
   "execution_count": 3,
   "id": "4f01a5f9-b3ed-4606-a2b6-400d780becf2",
   "metadata": {},
   "outputs": [
    {
     "name": "stdout",
     "output_type": "stream",
     "text": [
      "['abaker@ourcompany.com', 'cdonaldson@ourcompany.com', 'efreeman@ourcompany.com']\n"
     ]
    }
   ],
   "source": [
    "#Extract email addresses from the text of page 2\n",
    "import re\n",
    "\n",
    "# Extract email addresses\n",
    "email_addresses = re.findall(r'\\b[A-Za-z0-9._%+-]+@[A-Za-z0-9.-]+\\.[A-Z|a-z]{2,}\\b', page_two_text)\n",
    "print(email_addresses)\n"
   ]
  }
 ],
 "metadata": {
  "kernelspec": {
   "display_name": "Python 3 (ipykernel)",
   "language": "python",
   "name": "python3"
  },
  "language_info": {
   "codemirror_mode": {
    "name": "ipython",
    "version": 3
   },
   "file_extension": ".py",
   "mimetype": "text/x-python",
   "name": "python",
   "nbconvert_exporter": "python",
   "pygments_lexer": "ipython3",
   "version": "3.12.9"
  }
 },
 "nbformat": 4,
 "nbformat_minor": 5
}
