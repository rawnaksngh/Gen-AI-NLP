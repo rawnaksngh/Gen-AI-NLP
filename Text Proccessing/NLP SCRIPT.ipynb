{
 "cells": [
  {
   "cell_type": "markdown",
   "id": "e52d900c-0530-49c6-9cf6-15b8be12f64f",
   "metadata": {},
   "source": [
    "# 1. Create a Doc object from the file owlcreek.txt"
   ]
  },
  {
   "cell_type": "code",
   "execution_count": 2,
   "id": "5545d720-cc26-4586-a4fc-9bed19d80f83",
   "metadata": {},
   "outputs": [],
   "source": [
    "import spacy\n",
    "\n",
    "\n",
    "nlp = spacy.load(\"en_core_web_sm\")\n",
    "with open('owlcreek.txt', 'r') as file:\n",
    "    text = file.read()\n",
    "\n",
    "# Create a Doc object\n",
    "doc = nlp(text)"
   ]
  },
  {
   "cell_type": "markdown",
   "id": "2536eb20-9953-4811-8358-e1f7a507c3e6",
   "metadata": {},
   "source": [
    "# 2. How many tokens are contained in the file?"
   ]
  },
  {
   "cell_type": "code",
   "execution_count": 3,
   "id": "097d124d-5b9b-4b84-af20-94c9e55af962",
   "metadata": {},
   "outputs": [
    {
     "name": "stdout",
     "output_type": "stream",
     "text": [
      "Number of tokens: 4835\n"
     ]
    }
   ],
   "source": [
    "num_tokens = len(doc)\n",
    "print(f\"Number of tokens: {num_tokens}\")"
   ]
  },
  {
   "cell_type": "markdown",
   "id": "d8ddd8b1-f6d2-4401-91aa-40826b648e67",
   "metadata": {},
   "source": [
    "# 3. How many sentences are contained in the file?\n",
    "\n"
   ]
  },
  {
   "cell_type": "code",
   "execution_count": 4,
   "id": "09903e2f-c202-43b8-9fe7-60429e0b9d97",
   "metadata": {},
   "outputs": [
    {
     "name": "stdout",
     "output_type": "stream",
     "text": [
      "Number of sentences: 204\n"
     ]
    }
   ],
   "source": [
    "# Count the number of sentences\n",
    "num_sentences = len(list(doc.sents))\n",
    "print(f\"Number of sentences: {num_sentences}\")"
   ]
  },
  {
   "cell_type": "markdown",
   "id": "1ffa7f1e-dc2d-43c3-a55c-9aea82a4a9e3",
   "metadata": {},
   "source": [
    "# 4. Print the second sentence in the document"
   ]
  },
  {
   "cell_type": "code",
   "execution_count": 5,
   "id": "ea801812-9119-4907-bf4b-29eab6975a7d",
   "metadata": {},
   "outputs": [
    {
     "name": "stdout",
     "output_type": "stream",
     "text": [
      "Second sentence: The man's hands were behind\n",
      "his back, the wrists bound with a cord.  \n"
     ]
    }
   ],
   "source": [
    "# Get the second sentence\n",
    "second_sentence = list(doc.sents)[1]  \n",
    "print(f\"Second sentence: {second_sentence.text}\")"
   ]
  },
  {
   "cell_type": "markdown",
   "id": "da1ac8e7-b9dd-43c3-a463-103d95126236",
   "metadata": {},
   "source": [
    "# 5. For each token in the sentence above, print its text, POS tag, dep tag, and lemma"
   ]
  },
  {
   "cell_type": "code",
   "execution_count": 13,
   "id": "2c651ba6-9bc1-419f-9027-8824b6e28217",
   "metadata": {},
   "outputs": [
    {
     "name": "stdout",
     "output_type": "stream",
     "text": [
      "Text: The, POS: DET, Dep: det, Lemma: the\n",
      "Text: man, POS: NOUN, Dep: poss, Lemma: man\n",
      "Text: 's, POS: PART, Dep: case, Lemma: 's\n",
      "Text: hands, POS: NOUN, Dep: nsubj, Lemma: hand\n",
      "Text: were, POS: AUX, Dep: ROOT, Lemma: be\n",
      "Text: behind, POS: ADP, Dep: prep, Lemma: behind\n",
      "Text: \n",
      ", POS: SPACE, Dep: dep, Lemma: \n",
      "\n",
      "Text: his, POS: PRON, Dep: poss, Lemma: his\n",
      "Text: back, POS: NOUN, Dep: pobj, Lemma: back\n",
      "Text: ,, POS: PUNCT, Dep: punct, Lemma: ,\n",
      "Text: the, POS: DET, Dep: det, Lemma: the\n",
      "Text: wrists, POS: NOUN, Dep: appos, Lemma: wrist\n",
      "Text: bound, POS: VERB, Dep: acl, Lemma: bind\n",
      "Text: with, POS: ADP, Dep: prep, Lemma: with\n",
      "Text: a, POS: DET, Dep: det, Lemma: a\n",
      "Text: cord, POS: NOUN, Dep: pobj, Lemma: cord\n",
      "Text: ., POS: PUNCT, Dep: punct, Lemma: .\n",
      "Text:  , POS: SPACE, Dep: dep, Lemma:  \n"
     ]
    }
   ],
   "source": [
    "for token in second_sentence:\n",
    "    print(f\"Text: {token.text}, POS: {token.pos_}, Dep: {token.dep_}, Lemma: {token.lemma_}\")"
   ]
  },
  {
   "cell_type": "markdown",
   "id": "d1dbd981-5a33-442e-a54b-0f285f41bbcb",
   "metadata": {},
   "source": [
    "# 6. Write a matcher called 'Swimming' that finds both occurrences of the phrase \"swimming vigorously\" in the text"
   ]
  },
  {
   "cell_type": "code",
   "execution_count": 15,
   "id": "21230d4b-f9e6-4aeb-a52f-4eff5fbe92f1",
   "metadata": {},
   "outputs": [
    {
     "name": "stdout",
     "output_type": "stream",
     "text": [
      "[]\n"
     ]
    }
   ],
   "source": [
    "from spacy.matcher import Matcher\n",
    "matcher = Matcher(nlp.vocab)\n",
    "\n",
    "pattern = [{\"LOWER\": \"swimming\"}, {\"LOWER\": \"vigorously\"}]\n",
    "matcher.add(\"Swimming\", [pattern])\n",
    "\n",
    "# Find matches in the doc\n",
    "found_matches = matcher(doc)\n",
    "\n",
    "print(found_matches)"
   ]
  },
  {
   "cell_type": "markdown",
   "id": "fa27fe80-c460-41e4-ad18-5aacaa482b5c",
   "metadata": {},
   "source": [
    "# 7. Print the text surrounding each found match"
   ]
  },
  {
   "cell_type": "code",
   "execution_count": 16,
   "id": "8934cd72-e505-494d-8717-da1f30c54208",
   "metadata": {},
   "outputs": [
    {
     "name": "stdout",
     "output_type": "stream",
     "text": [
      "By diving I could evade the bullets and, swimming\n",
      "vigorously, reach the bank, take to the woods and get away home\n"
     ]
    }
   ],
   "source": [
    "print(doc[1265:1290])"
   ]
  },
  {
   "cell_type": "code",
   "execution_count": null,
   "id": "df887c6e-fc88-4cbf-b498-e59c247873ff",
   "metadata": {},
   "outputs": [],
   "source": []
  },
  {
   "cell_type": "code",
   "execution_count": null,
   "id": "a9cfafa7-7996-4b29-b9f8-189dc1087717",
   "metadata": {},
   "outputs": [],
   "source": []
  },
  {
   "cell_type": "code",
   "execution_count": null,
   "id": "7c51ebf3-191f-4f44-a99c-ab974526adac",
   "metadata": {},
   "outputs": [],
   "source": []
  },
  {
   "cell_type": "code",
   "execution_count": null,
   "id": "c519f53c-1d86-4ce7-9816-c11545dc5a35",
   "metadata": {},
   "outputs": [],
   "source": []
  },
  {
   "cell_type": "code",
   "execution_count": null,
   "id": "00a821b5-65cb-4a4e-8808-0a7205b232e6",
   "metadata": {},
   "outputs": [],
   "source": []
  },
  {
   "cell_type": "code",
   "execution_count": null,
   "id": "b0cd5881-f3ad-4508-b52a-05339ab63836",
   "metadata": {},
   "outputs": [],
   "source": []
  },
  {
   "cell_type": "code",
   "execution_count": null,
   "id": "20b56bec-f9ef-43d9-9843-1ccdb04aa1d9",
   "metadata": {},
   "outputs": [],
   "source": []
  },
  {
   "cell_type": "code",
   "execution_count": null,
   "id": "05fd44a6-ffb9-400f-a3f7-3ff39cb06218",
   "metadata": {},
   "outputs": [],
   "source": []
  },
  {
   "cell_type": "code",
   "execution_count": null,
   "id": "2cb2584b-0d43-4ab4-b718-d62068cc36c8",
   "metadata": {},
   "outputs": [],
   "source": []
  },
  {
   "cell_type": "code",
   "execution_count": null,
   "id": "6a679796-a9d7-43ae-9aad-74f0e4dd0685",
   "metadata": {},
   "outputs": [],
   "source": []
  },
  {
   "cell_type": "code",
   "execution_count": null,
   "id": "aef6bfd4-71b0-484d-b1c4-470b91e4dfd6",
   "metadata": {},
   "outputs": [],
   "source": []
  },
  {
   "cell_type": "code",
   "execution_count": null,
   "id": "365a37d2-37c1-40c2-b387-25385f8b3504",
   "metadata": {},
   "outputs": [],
   "source": []
  },
  {
   "cell_type": "code",
   "execution_count": null,
   "id": "4068fd9c-1448-4b2a-8aec-05c5b5f08139",
   "metadata": {},
   "outputs": [],
   "source": []
  },
  {
   "cell_type": "code",
   "execution_count": null,
   "id": "08bdda82-0454-4486-abe1-2ae44a08a216",
   "metadata": {},
   "outputs": [],
   "source": []
  },
  {
   "cell_type": "code",
   "execution_count": null,
   "id": "3dd1a274-3835-4da8-a4ef-09cfbed8dee8",
   "metadata": {},
   "outputs": [],
   "source": []
  },
  {
   "cell_type": "code",
   "execution_count": null,
   "id": "c38c02fe-dbea-48d6-b12a-da91c7c67701",
   "metadata": {},
   "outputs": [],
   "source": []
  },
  {
   "cell_type": "code",
   "execution_count": null,
   "id": "0601a3cf-85e2-4c5c-bdb7-b90b7e2cafb3",
   "metadata": {},
   "outputs": [],
   "source": []
  },
  {
   "cell_type": "code",
   "execution_count": null,
   "id": "26186b75-808f-4b77-8c6d-75de7fb177cc",
   "metadata": {},
   "outputs": [],
   "source": []
  },
  {
   "cell_type": "code",
   "execution_count": null,
   "id": "d22fd0e8-cded-4849-857d-eb94dda1bb89",
   "metadata": {},
   "outputs": [],
   "source": []
  },
  {
   "cell_type": "code",
   "execution_count": null,
   "id": "e317637f-411d-44d8-9a1e-08bef6bfca87",
   "metadata": {},
   "outputs": [],
   "source": []
  },
  {
   "cell_type": "code",
   "execution_count": null,
   "id": "ee41e427-f161-48f5-b8f4-ed6816e92b09",
   "metadata": {},
   "outputs": [],
   "source": []
  }
 ],
 "metadata": {
  "kernelspec": {
   "display_name": "Python 3 (ipykernel)",
   "language": "python",
   "name": "python3"
  },
  "language_info": {
   "codemirror_mode": {
    "name": "ipython",
    "version": 3
   },
   "file_extension": ".py",
   "mimetype": "text/x-python",
   "name": "python",
   "nbconvert_exporter": "python",
   "pygments_lexer": "ipython3",
   "version": "3.12.9"
  }
 },
 "nbformat": 4,
 "nbformat_minor": 5
}
