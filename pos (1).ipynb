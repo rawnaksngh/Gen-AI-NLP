{
 "cells": [
  {
   "cell_type": "code",
   "execution_count": 1,
   "id": "731e7592-5daa-4d9e-8e16-bc0b750e8cda",
   "metadata": {},
   "outputs": [],
   "source": [
    "#part of speech"
   ]
  },
  {
   "cell_type": "code",
   "execution_count": 2,
   "id": "c889ab18-92ee-488b-a4c2-41254d5aa1c6",
   "metadata": {},
   "outputs": [],
   "source": [
    "#the challange of correctly  indentify parts of speech"
   ]
  },
  {
   "cell_type": "code",
   "execution_count": 3,
   "id": "dba5c814-a74f-432c-a47e-f87d125e86d7",
   "metadata": {},
   "outputs": [],
   "source": [
    "# perform standard imports \n",
    "import spacy \n",
    "nlp= spacy.load('en_core_web_sm')"
   ]
  },
  {
   "cell_type": "code",
   "execution_count": 4,
   "id": "2a731207-ad6b-4648-b7f6-154fb33fe979",
   "metadata": {},
   "outputs": [],
   "source": [
    "# create a simple doc object\n",
    "doc= nlp(u\"The quick brown fox jumped over the lazy dog's back.\")\n"
   ]
  },
  {
   "cell_type": "code",
   "execution_count": 5,
   "id": "6330a0a4-7e4f-4f89-9280-047f3ef09202",
   "metadata": {},
   "outputs": [],
   "source": [
    "# view token tages \n",
    "#recall that u can optain a particular tokan by its index position \n",
    "#to view the coarse pos tag use tokan.pos\n"
   ]
  },
  {
   "cell_type": "code",
   "execution_count": 6,
   "id": "a7968eb3-a009-4efa-8b0c-eecbb23b2c4a",
   "metadata": {},
   "outputs": [
    {
     "name": "stdout",
     "output_type": "stream",
     "text": [
      "The quick brown fox jumped over the lazy dog's back.\n"
     ]
    }
   ],
   "source": [
    "# print the full text :\n",
    "print(doc.text)\n"
   ]
  },
  {
   "cell_type": "code",
   "execution_count": 7,
   "id": "4494155a-5e8e-422f-bfdf-6a328509baa6",
   "metadata": {},
   "outputs": [
    {
     "name": "stdout",
     "output_type": "stream",
     "text": [
      "jumped VERB VBD verb, past tense\n"
     ]
    }
   ],
   "source": [
    "# print the fifth word and associated tages :\n",
    "print(doc[4].text,doc[4].pos_,doc[4].tag_,spacy.explain(doc[4].tag_))"
   ]
  },
  {
   "cell_type": "code",
   "execution_count": 8,
   "id": "595cb158-b256-4e6b-84cd-3467d7784555",
   "metadata": {},
   "outputs": [],
   "source": [
    "# we can apply this techin to the entire doc obj\n"
   ]
  },
  {
   "cell_type": "code",
   "execution_count": 9,
   "id": "8f3353be-bb97-4a27-8719-0698d393a2df",
   "metadata": {},
   "outputs": [
    {
     "name": "stdout",
     "output_type": "stream",
     "text": [
      "The        DET      DT     determiner\n",
      "quick      ADJ      JJ     adjective (English), other noun-modifier (Chinese)\n",
      "brown      ADJ      JJ     adjective (English), other noun-modifier (Chinese)\n",
      "fox        NOUN     NN     noun, singular or mass\n",
      "jumped     VERB     VBD    verb, past tense\n",
      "over       ADP      IN     conjunction, subordinating or preposition\n",
      "the        DET      DT     determiner\n",
      "lazy       ADJ      JJ     adjective (English), other noun-modifier (Chinese)\n",
      "dog        NOUN     NN     noun, singular or mass\n",
      "'s         PART     POS    possessive ending\n",
      "back       NOUN     NN     noun, singular or mass\n",
      ".          PUNCT    .      punctuation mark, sentence closer\n"
     ]
    }
   ],
   "source": [
    "for token in doc:\n",
    "    print(f'{token.text:{10}} {token.pos_:{8}} {token.tag_:{6}} {spacy.explain(token.tag_)}')"
   ]
  },
  {
   "cell_type": "code",
   "execution_count": 10,
   "id": "ac4c3341-29fc-447c-9b22-bd2458958e41",
   "metadata": {},
   "outputs": [],
   "source": [
    "# working with pos"
   ]
  },
  {
   "cell_type": "code",
   "execution_count": 11,
   "id": "66d98f23-eedb-403f-9ef0-44a6fcff734b",
   "metadata": {},
   "outputs": [
    {
     "name": "stdout",
     "output_type": "stream",
     "text": [
      "read       VERB     VBP    verb, non-3rd person singular present\n"
     ]
    }
   ],
   "source": [
    "doc=nlp(u'i read books on nlp.')\n",
    "r = doc[1]\n",
    "\n",
    "print(f'{r.text:{10}} {r.pos_:{8}} {r.tag_:{6}} {spacy.explain(r.tag_)}')"
   ]
  },
  {
   "cell_type": "code",
   "execution_count": 12,
   "id": "cbe4c2ee-dc7c-4ddb-8e61-d2f1a1491a02",
   "metadata": {},
   "outputs": [],
   "source": [
    "# counting pos tages \n",
    "# frequency count\n"
   ]
  },
  {
   "cell_type": "code",
   "execution_count": 13,
   "id": "d10b6dd8-2d87-4802-83dc-5fb84c69e810",
   "metadata": {},
   "outputs": [
    {
     "data": {
      "text/plain": [
       "{90: 2, 84: 3, 92: 2, 100: 1, 85: 1, 94: 1, 86: 1, 97: 1}"
      ]
     },
     "execution_count": 13,
     "metadata": {},
     "output_type": "execute_result"
    }
   ],
   "source": [
    "doc = nlp(u\"The quick brown fox jumped over the lazy dog's back,\")\n",
    " # count the frequencies of doifference coarse - gained pos tag:\n",
    "POS_counts = doc.count_by(spacy.attrs.POS)\n",
    "POS_counts"
   ]
  },
  {
   "cell_type": "code",
   "execution_count": 14,
   "id": "f627bb37-7b82-4651-b0db-204027f8fd15",
   "metadata": {},
   "outputs": [
    {
     "data": {
      "text/plain": [
       "'DET'"
      ]
     },
     "execution_count": 14,
     "metadata": {},
     "output_type": "execute_result"
    }
   ],
   "source": [
    "doc.vocab[90].text"
   ]
  },
  {
   "cell_type": "code",
   "execution_count": 15,
   "id": "a634dbcc-d1e0-4a09-859c-3dddfd92fb27",
   "metadata": {},
   "outputs": [
    {
     "name": "stdout",
     "output_type": "stream",
     "text": [
      "84.ADJ  :3\n",
      "85.ADP  :1\n",
      "86.ADV  :1\n",
      "90.DET  :2\n",
      "92.NOUN :2\n",
      "94.PART :1\n",
      "97.PUNCT:1\n",
      "100.VERB :1\n"
     ]
    }
   ],
   "source": [
    "# create a frequence list of POS tags from the entire document\n",
    "for k,v in sorted (POS_counts.items()):\n",
    "    print(f'{k}.{doc.vocab[k].text:{5}}:{v}')"
   ]
  },
  {
   "cell_type": "code",
   "execution_count": 16,
   "id": "fd683f22-1a63-4321-a3f6-b5f19577dca6",
   "metadata": {},
   "outputs": [
    {
     "name": "stdout",
     "output_type": "stream",
     "text": [
      "74.POS :1\n",
      "164681854541413346.RB  :1\n",
      "1292078113972184607.IN  :1\n",
      "2593208677638477497.,   :1\n",
      "10554686591937588953.JJ  :3\n",
      "15267657372422890137.DT  :2\n",
      "15308085513773655218.NN  :2\n",
      "17109001835818727656.VBD :1\n"
     ]
    }
   ],
   "source": [
    "#count the diffence fine - grained tags:\n",
    "TAG_counts = doc.count_by(spacy.attrs.TAG)\n",
    "\n",
    "for k,v in sorted (TAG_counts.items()):\n",
    "    print(f'{k}.{doc.vocab[k].text:{4}}:{v}')"
   ]
  },
  {
   "cell_type": "code",
   "execution_count": null,
   "id": "c9c0807d-c198-4b63-842b-2db8453559d5",
   "metadata": {},
   "outputs": [],
   "source": []
  }
 ],
 "metadata": {
  "kernelspec": {
   "display_name": "Python 3 (ipykernel)",
   "language": "python",
   "name": "python3"
  },
  "language_info": {
   "codemirror_mode": {
    "name": "ipython",
    "version": 3
   },
   "file_extension": ".py",
   "mimetype": "text/x-python",
   "name": "python",
   "nbconvert_exporter": "python",
   "pygments_lexer": "ipython3",
   "version": "3.12.8"
  }
 },
 "nbformat": 4,
 "nbformat_minor": 5
}
