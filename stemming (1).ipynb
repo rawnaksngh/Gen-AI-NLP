{
 "cells": [
  {
   "cell_type": "code",
   "execution_count": 1,
   "id": "cdb6c0ed-6ee5-4178-a7fa-30e5c96bef1f",
   "metadata": {},
   "outputs": [],
   "source": [
    "#often when searching text for a certain keyword,it helps the search returns variation of the word for instance.searching for\"boat\"might also return\"boats\"and\"boating\".here\"boats\"would be the stem for[boat,boater,boating,boats]"
   ]
  },
  {
   "cell_type": "code",
   "execution_count": 1,
   "id": "53df5694-935d-4617-86c5-c73136d7c1ef",
   "metadata": {},
   "outputs": [],
   "source": [
    "#import the toolkit and the full porter stemmer library\n",
    "import nltk\n",
    "\n",
    "from nltk.stem.porter  import PorterStemmer"
   ]
  },
  {
   "cell_type": "code",
   "execution_count": null,
   "id": "a3d280e9-b74f-4195-bfc4-75b907ba8e9b",
   "metadata": {},
   "outputs": [],
   "source": [
    "#porterstemmer one of the most common-and effective-stemming tools is porter's algorithm developed by Martin porter in 1980.The algorithm employs five phases of word reduction,each with its own set of mapping rules"
   ]
  },
  {
   "cell_type": "code",
   "execution_count": 2,
   "id": "fa4205be-a73e-491c-bc6c-a7986c91c310",
   "metadata": {},
   "outputs": [],
   "source": [
    "p_stemmer=PorterStemmer()"
   ]
  },
  {
   "cell_type": "code",
   "execution_count": 3,
   "id": "47029e8a-6f6a-4bde-a512-ae6d93bd96b1",
   "metadata": {},
   "outputs": [],
   "source": [
    "words=['run','runner','running','ran','runs','easily','fairly']"
   ]
  },
  {
   "cell_type": "code",
   "execution_count": 4,
   "id": "85d5a199-5b0c-4b64-83b5-e5d8a30e96e5",
   "metadata": {},
   "outputs": [
    {
     "name": "stdout",
     "output_type": "stream",
     "text": [
      "run --> run\n",
      "runner --> runner\n",
      "running --> run\n",
      "ran --> ran\n",
      "runs --> run\n",
      "easily --> easili\n",
      "fairly --> fairli\n"
     ]
    }
   ],
   "source": [
    "for word in words:\n",
    "    print(word+' --> '+p_stemmer.stem(word))"
   ]
  },
  {
   "cell_type": "code",
   "execution_count": null,
   "id": "85021914-2942-48b3-934f-3076dfbc8c78",
   "metadata": {},
   "outputs": [],
   "source": [
    "    #snowball stemmer:it is come after porter stemmer thatswhy its speed is high more than it.."
   ]
  },
  {
   "cell_type": "code",
   "execution_count": 5,
   "id": "39e19d57-0b52-4a9d-a659-4ba3d9d014c6",
   "metadata": {},
   "outputs": [],
   "source": [
    "from nltk.stem.snowball  import SnowballStemmer\n",
    "\n",
    "#the snowball stemmer requires that you pass a language parameter\n",
    "s_stemmer=SnowballStemmer(language='english')"
   ]
  },
  {
   "cell_type": "code",
   "execution_count": 6,
   "id": "79a36a67-88fc-49ef-babc-f9c6dc0e571a",
   "metadata": {},
   "outputs": [],
   "source": [
    "words=['run','runner','running','ran','runs','easily','fairly']"
   ]
  },
  {
   "cell_type": "code",
   "execution_count": 7,
   "id": "b3683514-bfba-4ffb-bbcf-5dee20b5167b",
   "metadata": {},
   "outputs": [
    {
     "name": "stdout",
     "output_type": "stream",
     "text": [
      "run --> run\n",
      "runner --> runner\n",
      "running --> run\n",
      "ran --> ran\n",
      "runs --> run\n",
      "easily --> easili\n",
      "fairly --> fair\n"
     ]
    }
   ],
   "source": [
    "for word in words:\n",
    "    print(word+' --> '+s_stemmer.stem(word))"
   ]
  },
  {
   "cell_type": "code",
   "execution_count": 8,
   "id": "c89cb9c0-aa64-4696-af81-811b578b174f",
   "metadata": {},
   "outputs": [],
   "source": [
    "words=['consolingly']"
   ]
  },
  {
   "cell_type": "code",
   "execution_count": 9,
   "id": "cd771070-4934-4b4b-bd96-5288ffdeb61c",
   "metadata": {},
   "outputs": [
    {
     "name": "stdout",
     "output_type": "stream",
     "text": [
      "Porter Stemmer:\n",
      "consolingly --> consolingli\n"
     ]
    }
   ],
   "source": [
    "print('Porter Stemmer:')\n",
    "for word in words:\n",
    "    print(word+' --> '+p_stemmer.stem(word))"
   ]
  },
  {
   "cell_type": "code",
   "execution_count": 10,
   "id": "2e7c78bb-8785-420f-9db3-f241be968466",
   "metadata": {},
   "outputs": [
    {
     "name": "stdout",
     "output_type": "stream",
     "text": [
      "Snowball Stemmer:\n",
      "consolingly --> consol\n"
     ]
    }
   ],
   "source": [
    "print('Snowball Stemmer:')\n",
    "for word in words:print(word+' --> '+s_stemmer.stem(word))"
   ]
  },
  {
   "cell_type": "code",
   "execution_count": 13,
   "id": "643a6026-8c65-479d-bbbe-188874705e48",
   "metadata": {},
   "outputs": [
    {
     "name": "stdout",
     "output_type": "stream",
     "text": [
      "i --> i\n",
      "am --> am\n",
      "meeting --> meet\n",
      "him --> him\n",
      "tomorrow --> tomorrow\n",
      "at --> at\n",
      "the --> the\n",
      "meeting --> meet\n"
     ]
    }
   ],
   "source": [
    "phrase='i am meeting  him tomorrow at the meeting'\n",
    "for word in phrase.split():\n",
    "    print(word+' --> '+p_stemmer.stem(word))"
   ]
  },
  {
   "cell_type": "code",
   "execution_count": null,
   "id": "f2e3e077-6c59-46ff-a496-10e141b02ac9",
   "metadata": {},
   "outputs": [],
   "source": []
  }
 ],
 "metadata": {
  "kernelspec": {
   "display_name": "Python 3 (ipykernel)",
   "language": "python",
   "name": "python3"
  },
  "language_info": {
   "codemirror_mode": {
    "name": "ipython",
    "version": 3
   },
   "file_extension": ".py",
   "mimetype": "text/x-python",
   "name": "python",
   "nbconvert_exporter": "python",
   "pygments_lexer": "ipython3",
   "version": "3.12.4"
  }
 },
 "nbformat": 4,
 "nbformat_minor": 5
}
