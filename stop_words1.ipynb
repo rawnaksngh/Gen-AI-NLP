{
 "cells": [
  {
   "cell_type": "code",
   "execution_count": 1,
   "id": "a01b03c7-8abb-4bac-abb3-3bf521240fb0",
   "metadata": {},
   "outputs": [],
   "source": [
    "#perform standard imports:\n",
    "import spacy\n",
    "nlp=spacy.load(\"en_core_web_sm\")"
   ]
  },
  {
   "cell_type": "code",
   "execution_count": 2,
   "id": "3b3efd54-17b5-43e5-a8b1-8ac6868718c5",
   "metadata": {},
   "outputs": [
    {
     "name": "stdout",
     "output_type": "stream",
     "text": [
      "{'becoming', 'at', 'six', 'these', 'thence', 'whereas', 'thereby', 'much', 'none', 'she', 'me', 'which', 'almost', 'should', 'together', 'however', 'because', 'wherein', 'someone', 'please', '’s', 'of', 'nowhere', 'about', 'to', 'others', \"n't\", 'are', 'everyone', \"'d\", 'among', 'your', 'top', 'a', 'anywhere', 'become', 'along', 'it', 'within', 'see', 'would', 'ours', 'herein', '’ve', 'my', '’ll', \"'ll\", 'afterwards', 'third', 'those', 'ever', 'whither', 'serious', 'there', 'i', 'hundred', 'whatever', 'very', 'off', 'how', 'most', 'here', 'itself', 'else', 'yours', 'done', 'whence', 'unless', 'too', 'meanwhile', 'from', 'latter', 'move', 'put', 'formerly', 'through', 'whoever', 'has', 'herself', 'yet', 'this', 'under', 'becomes', 'the', 'part', 'then', 'empty', 'throughout', 'wherever', 'cannot', 'four', 'otherwise', 'themselves', 'twelve', 'seemed', 'again', 're', 'myself', 'was', 'when', 'himself', 'behind', 'rather', 'indeed', 'five', 'been', 'per', 'an', 'various', 'between', '‘d', 'his', 'be', 'onto', 'each', 'everywhere', 'have', 'next', 'could', 'also', 'elsewhere', 'around', 'moreover', 'sometime', '‘ve', 'above', 'now', 'will', 'nor', 'anyhow', 'had', 'fifteen', 'on', 'in', 'does', 'give', 'own', 'eight', 'alone', 'go', 'their', 'such', 'further', \"'s\", 'although', 'say', 'beforehand', 'somewhere', '‘m', 'nobody', 'if', 'while', 'front', 'nevertheless', 'just', 'our', 'him', 'side', 'latterly', 'many', 'into', 'whereafter', 'mostly', 'against', 'anyone', 'perhaps', 'that', 'during', 'thru', 'became', 'all', 'yourselves', 'as', 'n‘t', 'whether', 'beside', 'via', 'and', 'several', 'whereupon', 'her', 'amount', 'nothing', 'fifty', 'whom', 'over', 'whenever', 'neither', 'did', 'full', 'hence', 'he', 'former', 'therein', 'make', 'after', 'thus', 'even', 'every', 'enough', 'without', 'except', '‘ll', 'am', 'yourself', 'get', 'forty', 'already', 'some', 'still', 'n’t', 'its', 'so', 'few', 'only', 'but', 'never', 'before', 'regarding', 'can', 'must', 'two', 'used', 'last', 'due', 'up', 'everything', 'down', 'not', 'below', 'keep', 'sixty', 'namely', 'where', 'or', 'towards', 'something', 'ten', 'seeming', 'made', 'either', 'across', 'anything', 'by', '’d', 'do', \"'ve\", 'though', 'amongst', 'more', 'than', 'show', 'anyway', 'whose', 'doing', 'therefore', 'somehow', 'toward', 'three', 'them', 'call', 'always', 'what', 'being', '’m', 'ourselves', 'noone', 'really', 'bottom', \"'m\", 'hereupon', 'were', 'might', 'sometimes', 'twenty', 'quite', 'for', 'hereafter', 'both', '‘s', 'another', 'back', 'they', 'any', '’re', '‘re', 'less', 'one', 'hers', 'you', 'until', 'why', 'beyond', 'is', 'upon', 'thereafter', 'nine', 'us', 'whole', 'since', \"'re\", 'mine', 'may', 'with', 'besides', 'eleven', 'thereupon', 'seems', 'once', 'out', 'least', 'often', 'whereby', 'name', 'ca', 'we', 'seem', 'no', 'hereby', 'well', 'take', 'other', 'same', 'who', 'using', 'first'}\n"
     ]
    }
   ],
   "source": [
    "#print the set of spacy's default stop words\n",
    "print(nlp.Defaults.stop_words)"
   ]
  },
  {
   "cell_type": "code",
   "execution_count": 3,
   "id": "0f440822-f9a2-4457-befa-2b475ebe1333",
   "metadata": {},
   "outputs": [
    {
     "data": {
      "text/plain": [
       "326"
      ]
     },
     "execution_count": 3,
     "metadata": {},
     "output_type": "execute_result"
    }
   ],
   "source": [
    "len(nlp.Defaults.stop_words)"
   ]
  },
  {
   "cell_type": "code",
   "execution_count": 4,
   "id": "4c662f26-7000-442d-b284-653c9b60fa72",
   "metadata": {},
   "outputs": [
    {
     "data": {
      "text/plain": [
       "True"
      ]
     },
     "execution_count": 4,
     "metadata": {},
     "output_type": "execute_result"
    }
   ],
   "source": [
    "#to see if a word is a stop word\n",
    "nlp.vocab['myself'].is_stop"
   ]
  },
  {
   "cell_type": "code",
   "execution_count": 5,
   "id": "912ef539-25c2-4327-80bc-b9b439940fb1",
   "metadata": {},
   "outputs": [
    {
     "data": {
      "text/plain": [
       "False"
      ]
     },
     "execution_count": 5,
     "metadata": {},
     "output_type": "execute_result"
    }
   ],
   "source": [
    "nlp.vocab['mystery'].is_stop"
   ]
  },
  {
   "cell_type": "code",
   "execution_count": 6,
   "id": "ae5a3715-6392-44a0-b6e3-47605be367f6",
   "metadata": {},
   "outputs": [
    {
     "data": {
      "text/plain": [
       "True"
      ]
     },
     "execution_count": 6,
     "metadata": {},
     "output_type": "execute_result"
    }
   ],
   "source": [
    "#to add a stop word\n",
    "nlp.Defaults.stop_words.add('btw')\n",
    "\n",
    "nlp.vocab['btw'].is_stop"
   ]
  },
  {
   "cell_type": "code",
   "execution_count": 7,
   "id": "4d0bcec7-ae44-4992-a07e-b3aae45fd610",
   "metadata": {},
   "outputs": [
    {
     "data": {
      "text/plain": [
       "327"
      ]
     },
     "execution_count": 7,
     "metadata": {},
     "output_type": "execute_result"
    }
   ],
   "source": [
    "len(nlp.Defaults.stop_words)"
   ]
  },
  {
   "cell_type": "code",
   "execution_count": 9,
   "id": "06cc5c5d-c347-46da-a6cb-9078c444b5db",
   "metadata": {},
   "outputs": [],
   "source": [
    "nlp.vocab['btw'].is_stop=True"
   ]
  },
  {
   "cell_type": "code",
   "execution_count": 10,
   "id": "105d22f3-076a-4f7c-a0ef-b3b61e7580a3",
   "metadata": {},
   "outputs": [
    {
     "data": {
      "text/plain": [
       "327"
      ]
     },
     "execution_count": 10,
     "metadata": {},
     "output_type": "execute_result"
    }
   ],
   "source": [
    "len(nlp.Defaults.stop_words)"
   ]
  },
  {
   "cell_type": "code",
   "execution_count": null,
   "id": "3c0e67d1-dad3-4965-a1aa-b893114ba596",
   "metadata": {},
   "outputs": [],
   "source": [
    "#to remove a stop word\n"
   ]
  },
  {
   "cell_type": "code",
   "execution_count": 11,
   "id": "1a203d9b-f59e-47aa-b845-fbc16b0b727b",
   "metadata": {},
   "outputs": [],
   "source": [
    "nlp.Defaults.stop_words.remove(\"btw\")"
   ]
  },
  {
   "cell_type": "code",
   "execution_count": 13,
   "id": "16660a7b-e8e3-4080-869f-955ea7e7229a",
   "metadata": {},
   "outputs": [],
   "source": [
    "#remove the stop_word tag from the lexeme\n",
    "nlp.vocab['btw'].is_stop=False"
   ]
  },
  {
   "cell_type": "code",
   "execution_count": 14,
   "id": "571d7da9-02e0-4be0-9fea-40ed5f2c78d2",
   "metadata": {},
   "outputs": [
    {
     "data": {
      "text/plain": [
       "326"
      ]
     },
     "execution_count": 14,
     "metadata": {},
     "output_type": "execute_result"
    }
   ],
   "source": [
    "len(nlp.Defaults.stop_words)"
   ]
  },
  {
   "cell_type": "code",
   "execution_count": 15,
   "id": "7865f6ab-1b6c-4e03-996c-ea58ba72141b",
   "metadata": {},
   "outputs": [
    {
     "data": {
      "text/plain": [
       "False"
      ]
     },
     "execution_count": 15,
     "metadata": {},
     "output_type": "execute_result"
    }
   ],
   "source": [
    "nlp.vocab['btw'].is_stop"
   ]
  },
  {
   "cell_type": "code",
   "execution_count": null,
   "id": "718abbb9-3eec-4461-a975-1489eacce73b",
   "metadata": {},
   "outputs": [],
   "source": [
    "\n"
   ]
  },
  {
   "cell_type": "code",
   "execution_count": null,
   "id": "949e3f0b-c535-413c-b70f-0a28488bed96",
   "metadata": {},
   "outputs": [],
   "source": []
  }
 ],
 "metadata": {
  "kernelspec": {
   "display_name": "Python 3 (ipykernel)",
   "language": "python",
   "name": "python3"
  },
  "language_info": {
   "codemirror_mode": {
    "name": "ipython",
    "version": 3
   },
   "file_extension": ".py",
   "mimetype": "text/x-python",
   "name": "python",
   "nbconvert_exporter": "python",
   "pygments_lexer": "ipython3",
   "version": "3.12.8"
  }
 },
 "nbformat": 4,
 "nbformat_minor": 5
}
