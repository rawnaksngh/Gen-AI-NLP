{
 "cells": [
  {
   "cell_type": "code",
   "execution_count": 1,
   "id": "793103a5-a42e-42be-bac5-98c4ae14e1f1",
   "metadata": {},
   "outputs": [],
   "source": [
    "# import the toolkit and the full port stemmer library\n",
    "import nltk\n",
    "\n",
    "from nltk.stem.porter import PorterStemmer"
   ]
  },
  {
   "cell_type": "code",
   "execution_count": 2,
   "id": "533146a4-f017-4305-b518-68319c37aada",
   "metadata": {},
   "outputs": [],
   "source": [
    "p_stemmer = PorterStemmer()"
   ]
  },
  {
   "cell_type": "code",
   "execution_count": 3,
   "id": "a024adb7-9d1a-4f67-9c5b-b4030f5cda86",
   "metadata": {},
   "outputs": [],
   "source": [
    "words = ['run','runner','running','ran','runs','easily','fairly']"
   ]
  },
  {
   "cell_type": "code",
   "execution_count": 7,
   "id": "e9c4b6c8-13c2-4047-a1ea-c477e3b7758b",
   "metadata": {},
   "outputs": [
    {
     "name": "stdout",
     "output_type": "stream",
     "text": [
      "run --> run\n",
      "runner --> runner\n",
      "running --> run\n",
      "ran --> ran\n",
      "runs --> run\n",
      "easily --> easili\n",
      "fairly --> fairli\n"
     ]
    }
   ],
   "source": [
    "for word in words:\n",
    "    print(word+' --> '+p_stemmer.stem(word))"
   ]
  },
  {
   "cell_type": "code",
   "execution_count": 16,
   "id": "351eeda9-0dd4-4dd3-b1ec-25a70f8a59ad",
   "metadata": {},
   "outputs": [],
   "source": [
    "from nltk.stem.snowball import SnowballStemmer\n",
    "\n",
    "# The snowball stemmer requires that you pass a language parameter\n",
    "s_stemmer = SnowballStemmer(language= 'english')"
   ]
  },
  {
   "cell_type": "code",
   "execution_count": 18,
   "id": "3ab98e50-36ca-4e10-9c17-7c31721fbb88",
   "metadata": {},
   "outputs": [],
   "source": [
    "words = ['run','runner','running','ran','runs','easily','fairly']"
   ]
  },
  {
   "cell_type": "code",
   "execution_count": 20,
   "id": "d21db2bd-9104-4130-b8e7-3ed29fe4da9d",
   "metadata": {},
   "outputs": [
    {
     "name": "stdout",
     "output_type": "stream",
     "text": [
      "run --> run\n",
      "runner --> runner\n",
      "running --> run\n",
      "ran --> ran\n",
      "runs --> run\n",
      "easily --> easili\n",
      "fairly --> fair\n"
     ]
    }
   ],
   "source": [
    "for word in words:\n",
    "    print(word+' --> '+s_stemmer.stem(word))"
   ]
  },
  {
   "cell_type": "code",
   "execution_count": 22,
   "id": "c96bd88a-48f3-4487-b156-fe56a5acf820",
   "metadata": {},
   "outputs": [],
   "source": [
    "words = ['consolingly']"
   ]
  },
  {
   "cell_type": "code",
   "execution_count": 24,
   "id": "2d49e266-bb14-4dfe-a214-ebc89a48f0fa",
   "metadata": {},
   "outputs": [
    {
     "name": "stdout",
     "output_type": "stream",
     "text": [
      "porter stemmer:\n",
      "consolingly---> consolingli\n"
     ]
    }
   ],
   "source": [
    "print('porter stemmer:')\n",
    "for word in words:\n",
    "    print(word+'---> '+p_stemmer.stem(word))"
   ]
  },
  {
   "cell_type": "code",
   "execution_count": 29,
   "id": "608c3a6e-7c09-4332-bba8-f6a85fc55b77",
   "metadata": {},
   "outputs": [
    {
     "name": "stdout",
     "output_type": "stream",
     "text": [
      "snowball stemmer:\n",
      "consolingly---> consol\n"
     ]
    }
   ],
   "source": [
    "print('snowball stemmer:')\n",
    "for word in words:\n",
    "    print(word+'---> '+s_stemmer.stem(word))"
   ]
  },
  {
   "cell_type": "code",
   "execution_count": 31,
   "id": "8768d629-ee92-49af-8cae-8f471713a2c2",
   "metadata": {},
   "outputs": [
    {
     "name": "stdout",
     "output_type": "stream",
     "text": [
      "I---> i\n",
      "am---> am\n",
      "meeting---> meet\n",
      "him---> him\n",
      "tomorrow---> tomorrow\n",
      "at---> at\n",
      "the---> the\n",
      "meeting---> meet\n"
     ]
    }
   ],
   "source": [
    "phrase = 'I am meeting him tomorrow at the meeting'\n",
    "for word in phrase.split():\n",
    "    print(word+'---> '+s_stemmer.stem(word))"
   ]
  },
  {
   "cell_type": "code",
   "execution_count": 57,
   "id": "e04fed63-938f-4d04-972f-91214c6979d4",
   "metadata": {},
   "outputs": [
    {
     "name": "stdout",
     "output_type": "stream",
     "text": [
      "i---> i\n",
      "am---> am\n",
      "very---> veri\n",
      "luck---> luck\n",
      "because---> becaus\n",
      "today---> today\n",
      "i---> i\n",
      "am---> am\n",
      "graduated---> graduat\n"
     ]
    }
   ],
   "source": [
    "words = 'i am very luck because today i am graduated'\n",
    "for word in words.split():\n",
    "    print(word+'---> '+p_stemmer.stem(word))"
   ]
  },
  {
   "cell_type": "code",
   "execution_count": 71,
   "id": "6d6eb988-bf34-4d12-b6bd-ec24abea9689",
   "metadata": {},
   "outputs": [
    {
     "name": "stdout",
     "output_type": "stream",
     "text": [
      "i am very luck because today i am graduated --> i am very luck because today i am gradu\n"
     ]
    }
   ],
   "source": [
    "words = ['i am very luck because today i am graduated']\n",
    "for word in words:\n",
    "    print(word+' --> '+p_stemmer.stem(word))"
   ]
  },
  {
   "cell_type": "code",
   "execution_count": null,
   "id": "e7fa2037-2cd3-4007-bda6-5060749ee8ec",
   "metadata": {},
   "outputs": [],
   "source": []
  }
 ],
 "metadata": {
  "kernelspec": {
   "display_name": "Python 3 (ipykernel)",
   "language": "python",
   "name": "python3"
  },
  "language_info": {
   "codemirror_mode": {
    "name": "ipython",
    "version": 3
   },
   "file_extension": ".py",
   "mimetype": "text/x-python",
   "name": "python",
   "nbconvert_exporter": "python",
   "pygments_lexer": "ipython3",
   "version": "3.12.4"
  }
 },
 "nbformat": 4,
 "nbformat_minor": 5
}
